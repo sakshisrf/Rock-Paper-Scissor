{
 "cells": [
  {
   "cell_type": "code",
   "execution_count": 1,
   "metadata": {},
   "outputs": [],
   "source": [
    "import cv2\n",
    "import os\n",
    "import sys\n"
   ]
  },
  {
   "cell_type": "code",
   "execution_count": 2,
   "metadata": {},
   "outputs": [
    {
     "name": "stdout",
     "output_type": "stream",
     "text": [
      "choose among rock/paper/scissor/none which you want to capture: yhgby\n"
     ]
    }
   ],
   "source": [
    "num_samples=300\n",
    "label_name=input('choose among rock/paper/scissor/none which you want to capture: ')\n",
    "IMG_SAVE_PATH=r'E:\\data project\\RPS Project'\n",
    "IMG_CLASS_PATH=os.path.join(IMG_SAVE_PATH,label_name)\n",
    "os.mkdir(IMG_CLASS_PATH)"
   ]
  },
  {
   "cell_type": "code",
   "execution_count": 4,
   "metadata": {},
   "outputs": [
    {
     "name": "stdout",
     "output_type": "stream",
     "text": [
      "\n",
      "300 image(s) saved to E:\\data project\\RPS Project\\yhgby\n"
     ]
    }
   ],
   "source": [
    "    cap = cv2.VideoCapture(0)\n",
    "    count=0\n",
    "    start=False\n",
    "    while True:\n",
    "        ret, frame = cap.read()\n",
    "        if count == num_samples:\n",
    "            break\n",
    "        \n",
    "        cv2.rectangle(frame,(100,100),(300,300),(255,255,255),2)\n",
    "        if start:\n",
    "            roi = frame[100:300, 100:300]\n",
    "            save_path = os.path.join(IMG_CLASS_PATH, 'new {}{}.jpg'.format(label_name,count + 1))\n",
    "            cv2.imwrite(save_path, roi)\n",
    "            count += 1\n",
    "\n",
    "        font = cv2.FONT_HERSHEY_SIMPLEX\n",
    "        cv2.putText(frame, \"Collecting {}{}\".format(label_name,count),(5, 50), font, 0.7, (0, 255, 255), 2, cv2.LINE_AA)\n",
    "        cv2.imshow(\"Collecting images\", frame)\n",
    "\n",
    "        k = cv2.waitKey(10)\n",
    "        if k == ord('a'):\n",
    "            start = not start\n",
    "        if k == ord('q'):\n",
    "            break\n",
    "\n",
    "print(\"\\n{} image(s) saved to {}\".format(count, IMG_CLASS_PATH))\n",
    "cap.release()\n",
    "cv2.destroyAllWindows()"
   ]
  },
  {
   "cell_type": "code",
   "execution_count": null,
   "metadata": {},
   "outputs": [],
   "source": [
    "\n",
    "    "
   ]
  },
  {
   "cell_type": "code",
   "execution_count": null,
   "metadata": {},
   "outputs": [],
   "source": []
  },
  {
   "cell_type": "code",
   "execution_count": null,
   "metadata": {},
   "outputs": [],
   "source": []
  },
  {
   "cell_type": "code",
   "execution_count": null,
   "metadata": {},
   "outputs": [],
   "source": []
  },
  {
   "cell_type": "code",
   "execution_count": null,
   "metadata": {},
   "outputs": [],
   "source": []
  },
  {
   "cell_type": "code",
   "execution_count": null,
   "metadata": {},
   "outputs": [],
   "source": []
  },
  {
   "cell_type": "code",
   "execution_count": null,
   "metadata": {},
   "outputs": [],
   "source": []
  },
  {
   "cell_type": "code",
   "execution_count": null,
   "metadata": {},
   "outputs": [],
   "source": []
  },
  {
   "cell_type": "code",
   "execution_count": null,
   "metadata": {},
   "outputs": [],
   "source": []
  },
  {
   "cell_type": "code",
   "execution_count": null,
   "metadata": {},
   "outputs": [],
   "source": []
  },
  {
   "cell_type": "code",
   "execution_count": null,
   "metadata": {},
   "outputs": [],
   "source": []
  }
 ],
 "metadata": {
  "kernelspec": {
   "display_name": "Python 3",
   "language": "python",
   "name": "python3"
  },
  "language_info": {
   "codemirror_mode": {
    "name": "ipython",
    "version": 3
   },
   "file_extension": ".py",
   "mimetype": "text/x-python",
   "name": "python",
   "nbconvert_exporter": "python",
   "pygments_lexer": "ipython3",
   "version": "3.7.6"
  }
 },
 "nbformat": 4,
 "nbformat_minor": 4
}
