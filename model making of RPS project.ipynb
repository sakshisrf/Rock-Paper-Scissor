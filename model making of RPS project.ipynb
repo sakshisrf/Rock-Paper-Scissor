{
 "cells": [
  {
   "cell_type": "code",
   "execution_count": 1,
   "metadata": {},
   "outputs": [],
   "source": [
    "import numpy as np\n",
    "import os\n",
    "import cv2\n",
    "import random\n",
    "import matplotlib.pyplot as plt\n",
    "from tensorflow import keras\n",
    "import tensorflow as tf"
   ]
  },
  {
   "cell_type": "code",
   "execution_count": 3,
   "metadata": {},
   "outputs": [],
   "source": [
    "image_path=r'E:\\data project\\RPS Project'\n",
    "categories=['rock','paper','scissor','none']\n",
    "data=[]\n",
    "CLASS_MAP = {\n",
    "    \"rock\": 0,\n",
    "    \"paper\": 1,\n",
    "    \"scissor\": 2,\n",
    "    \"none\": 3\n",
    "}\n",
    "\n",
    "NUM_CLASSES = len(CLASS_MAP)\n",
    "def mapper(val):\n",
    "    return CLASS_MAP[val]\n",
    "\n",
    "\n"
   ]
  },
  {
   "cell_type": "code",
   "execution_count": 4,
   "metadata": {},
   "outputs": [
    {
     "data": {
      "text/plain": [
       "1200"
      ]
     },
     "execution_count": 4,
     "metadata": {},
     "output_type": "execute_result"
    }
   ],
   "source": [
    "for i in categories:\n",
    "    path=os.path.join(image_path,i)\n",
    "    label=categories.index(i)\n",
    "    for img in os.listdir(path):\n",
    "        pic=os.path.join(path,img)\n",
    "        img_read=cv2.imread(pic)\n",
    "        img_arr=cv2.resize(img_read,(100,100))\n",
    "        data.append([img_arr,label])\n",
    "        \n",
    "random.shuffle(data)   \n",
    "len(data)\n"
   ]
  },
  {
   "cell_type": "code",
   "execution_count": 9,
   "metadata": {},
   "outputs": [
    {
     "data": {
      "text/plain": [
       "[array([[[247, 253, 255],\n",
       "         [254, 254, 252],\n",
       "         [255, 255, 251],\n",
       "         ...,\n",
       "         [255, 255, 250],\n",
       "         [255, 255, 252],\n",
       "         [254, 254, 253]],\n",
       " \n",
       "        [[255, 254, 253],\n",
       "         [189, 177, 170],\n",
       "         [193, 179, 169],\n",
       "         ...,\n",
       "         [197, 187, 181],\n",
       "         [195, 188, 183],\n",
       "         [226, 223, 219]],\n",
       " \n",
       "        [[255, 254, 250],\n",
       "         [191, 179, 169],\n",
       "         [195, 179, 166],\n",
       "         ...,\n",
       "         [203, 186, 179],\n",
       "         [199, 186, 179],\n",
       "         [226, 221, 217]],\n",
       " \n",
       "        ...,\n",
       " \n",
       "        [[255, 253, 254],\n",
       "         [137, 130, 131],\n",
       "         [140, 129, 131],\n",
       "         ...,\n",
       "         [142, 131, 133],\n",
       "         [142, 132, 134],\n",
       "         [197, 193, 194]],\n",
       " \n",
       "        [[255, 254, 254],\n",
       "         [135, 129, 130],\n",
       "         [136, 128, 129],\n",
       "         ...,\n",
       "         [141, 133, 134],\n",
       "         [140, 133, 134],\n",
       "         [196, 193, 194]],\n",
       " \n",
       "        [[255, 255, 255],\n",
       "         [193, 190, 191],\n",
       "         [194, 190, 191],\n",
       "         ...,\n",
       "         [197, 194, 195],\n",
       "         [197, 193, 194],\n",
       "         [226, 224, 225]]], dtype=uint8),\n",
       " 0]"
      ]
     },
     "execution_count": 9,
     "metadata": {},
     "output_type": "execute_result"
    }
   ],
   "source": [
    "data[432]"
   ]
  },
  {
   "cell_type": "code",
   "execution_count": 10,
   "metadata": {},
   "outputs": [],
   "source": [
    "x=[]\n",
    "y=[]\n",
    "for feature,label in data:\n",
    "    x.append(feature)\n",
    "    y.append(label)\n",
    "    \n",
    "x=np.array(x)\n",
    "y=np.array(y)\n",
    "x=x/255"
   ]
  },
  {
   "cell_type": "code",
   "execution_count": 11,
   "metadata": {},
   "outputs": [],
   "source": [
    "import pickle\n",
    "pickle.dump(x,open('x.pkl','wb'))\n",
    "pickle.dump(y,open('y.pkl','wb'))"
   ]
  },
  {
   "cell_type": "code",
   "execution_count": 12,
   "metadata": {},
   "outputs": [
    {
     "name": "stdout",
     "output_type": "stream",
     "text": [
      "Epoch 1/10\n",
      "34/34 [==============================] - 11s 326ms/step - loss: 1.0061 - accuracy: 0.5741 - val_loss: 0.8627 - val_accuracy: 0.6083\n",
      "Epoch 2/10\n",
      "34/34 [==============================] - 11s 325ms/step - loss: 0.4024 - accuracy: 0.8454 - val_loss: 0.2654 - val_accuracy: 0.8750\n",
      "Epoch 3/10\n",
      "34/34 [==============================] - 12s 341ms/step - loss: 0.1744 - accuracy: 0.9444 - val_loss: 0.1514 - val_accuracy: 0.9333\n",
      "Epoch 4/10\n",
      "34/34 [==============================] - 12s 359ms/step - loss: 0.0930 - accuracy: 0.9750 - val_loss: 0.0709 - val_accuracy: 0.9917\n",
      "Epoch 5/10\n",
      "34/34 [==============================] - 16s 478ms/step - loss: 0.0571 - accuracy: 0.9843 - val_loss: 0.0415 - val_accuracy: 0.9917\n",
      "Epoch 6/10\n",
      "34/34 [==============================] - 15s 453ms/step - loss: 0.0419 - accuracy: 0.9889 - val_loss: 0.0395 - val_accuracy: 0.9917\n",
      "Epoch 7/10\n",
      "34/34 [==============================] - 16s 456ms/step - loss: 0.0254 - accuracy: 0.9935 - val_loss: 0.0635 - val_accuracy: 0.9917\n",
      "Epoch 8/10\n",
      "34/34 [==============================] - 15s 450ms/step - loss: 0.0161 - accuracy: 0.9954 - val_loss: 0.0142 - val_accuracy: 1.0000\n",
      "Epoch 9/10\n",
      "34/34 [==============================] - 15s 442ms/step - loss: 0.0134 - accuracy: 0.9954 - val_loss: 0.0419 - val_accuracy: 0.9917\n",
      "Epoch 10/10\n",
      "34/34 [==============================] - 15s 439ms/step - loss: 0.0098 - accuracy: 0.9991 - val_loss: 0.0114 - val_accuracy: 0.9917\n"
     ]
    },
    {
     "data": {
      "text/plain": [
       "<tensorflow.python.keras.callbacks.History at 0x1ca8b39e708>"
      ]
     },
     "execution_count": 12,
     "metadata": {},
     "output_type": "execute_result"
    }
   ],
   "source": [
    "model=keras.Sequential([\n",
    "keras.layers.Conv2D(64,(3,3),activation='relu',input_shape=x.shape[1:]),\n",
    "keras.layers.MaxPooling2D(2,2),\n",
    "keras.layers.Conv2D(32,(3,3),activation='relu'),\n",
    "keras.layers.MaxPooling2D(2,2),\n",
    "keras.layers.Conv2D(16,(3,3),activation='relu'),\n",
    "keras.layers.MaxPooling2D(2,2), \n",
    "keras.layers.Flatten(),\n",
    "keras.layers.Dense(128,activation='relu'),\n",
    "keras.layers.Dense(64,activation='relu'),\n",
    "keras.layers.Dense(4,activation='softmax'),  \n",
    "])\n",
    "model.compile(optimizer='adam',loss='sparse_categorical_crossentropy',metrics=['accuracy'])\n",
    "model.fit(x,y,epochs=10,validation_split=0.1)"
   ]
  },
  {
   "cell_type": "code",
   "execution_count": 17,
   "metadata": {},
   "outputs": [
    {
     "name": "stdout",
     "output_type": "stream",
     "text": [
      "INFO:tensorflow:Assets written to: rock-paper-scissors-model\\assets\n"
     ]
    }
   ],
   "source": [
    "model.save(\"rock-paper-scissors-model\")"
   ]
  },
  {
   "cell_type": "code",
   "execution_count": 15,
   "metadata": {},
   "outputs": [],
   "source": [
    "Class_map={\n",
    "    0:'rock',\n",
    "    1:'paper',\n",
    "    2:'scissor',\n",
    "    3:'none'\n",
    "}\n",
    "def Class(val):\n",
    "    return Class_map[val]"
   ]
  },
  {
   "cell_type": "code",
   "execution_count": 12,
   "metadata": {},
   "outputs": [],
   "source": []
  },
  {
   "cell_type": "code",
   "execution_count": 16,
   "metadata": {},
   "outputs": [],
   "source": [
    "cap=cv2.VideoCapture(0)\n",
    "while True:\n",
    "    ret,frame=cap.read()\n",
    "    cv2.rectangle(frame,(100,100),(500,500),(255,255,255),2)\n",
    "    img=frame[100:500, 100:500]\n",
    "    img_new=cv2.resize(img,(100,100))\n",
    "    pre=model.predict(np.array([img_new]))\n",
    "    pre_class=np.argmax(pre[0])\n",
    "    result=Class(pre_class)\n",
    "    font = cv2.FONT_HERSHEY_SIMPLEX\n",
    "    cv2.putText(frame, \"Your Move: \" + result,(50, 50), font, 1.2, (255, 255, 255), 2, cv2.LINE_AA)\n",
    "    cv2.imshow('rps',frame)\n",
    "    k = cv2.waitKey(10)\n",
    "    if k == ord('q'):\n",
    "        break\n",
    "\n",
    "cap.release()\n",
    "cv2.destroyAllWindows()"
   ]
  },
  {
   "cell_type": "code",
   "execution_count": null,
   "metadata": {},
   "outputs": [],
   "source": [
    "    "
   ]
  }
 ],
 "metadata": {
  "kernelspec": {
   "display_name": "Python 3",
   "language": "python",
   "name": "python3"
  },
  "language_info": {
   "codemirror_mode": {
    "name": "ipython",
    "version": 3
   },
   "file_extension": ".py",
   "mimetype": "text/x-python",
   "name": "python",
   "nbconvert_exporter": "python",
   "pygments_lexer": "ipython3",
   "version": "3.7.6"
  }
 },
 "nbformat": 4,
 "nbformat_minor": 4
}
