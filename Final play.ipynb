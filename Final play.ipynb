{
 "cells": [
  {
   "cell_type": "code",
   "execution_count": 2,
   "metadata": {},
   "outputs": [],
   "source": [
    "from tensorflow.keras.models import load_model\n",
    "import os\n",
    "import numpy as np\n",
    "import random\n",
    "import cv2"
   ]
  },
  {
   "cell_type": "code",
   "execution_count": 3,
   "metadata": {},
   "outputs": [],
   "source": [
    "Class_map={\n",
    "    0:'rock',\n",
    "    1:'paper',\n",
    "    2:'scissor',\n",
    "    3:'none'\n",
    "}"
   ]
  },
  {
   "cell_type": "code",
   "execution_count": 4,
   "metadata": {},
   "outputs": [],
   "source": [
    "def Class(val):\n",
    "    return Class_map[val]"
   ]
  },
  {
   "cell_type": "code",
   "execution_count": 5,
   "metadata": {},
   "outputs": [],
   "source": [
    "model=load_model('rock-paper-scissors-model')\n"
   ]
  },
  {
   "cell_type": "code",
   "execution_count": 6,
   "metadata": {},
   "outputs": [],
   "source": [
    "def Winner(move1,move2):\n",
    "    if move1=='rock':\n",
    "        if move2=='paper':\n",
    "            return 'computer'\n",
    "        if move2=='scissor':\n",
    "            return 'user'\n",
    "    if move1=='paper':\n",
    "        if move2=='rock':\n",
    "            return 'user'\n",
    "        if move2=='scissor':\n",
    "            return 'computer'\n",
    "    if move1=='scissor':\n",
    "        if move2=='paper':\n",
    "            return 'user'\n",
    "        if move2=='rock':\n",
    "            return 'computer'\n",
    "    if move1==move2:\n",
    "        return 'Draw'"
   ]
  },
  {
   "cell_type": "code",
   "execution_count": 7,
   "metadata": {},
   "outputs": [],
   "source": [
    "prev_move=None\n",
    "cap=cv2.VideoCapture(0)\n",
    "while True:\n",
    "    ret,frame=cap.read()\n",
    "    cv2.rectangle(frame,(100,100),(300,300),(255,255,255),2)\n",
    "    cv2.rectangle(frame,(400,100),(600,300),(255,255,255),2)\n",
    "    user_img = frame[100:300 , 100:300]\n",
    "    img=cv2.resize(user_img,(100,100))\n",
    "    pred = model.predict(np.array([img]))\n",
    "    move_code = np.argmax(pred[0])\n",
    "    user_move = Class(move_code)\n",
    "    \n",
    "    if prev_move!=user_move:\n",
    "        if user_move!=None:\n",
    "            computer_move=random.choice(['rock','paper','scissor'])\n",
    "            winner=Winner(user_move,computer_move)\n",
    "        else:\n",
    "            computer_move='none'\n",
    "            winner='Waiting......'\n",
    "    prev_move=user_move\n",
    "    font = cv2.FONT_HERSHEY_SIMPLEX\n",
    "    cv2.putText(frame, \"Your Move: \" + user_move,(50, 50), font, 0.7, (255, 255, 255), 1, cv2.LINE_AA)\n",
    "    cv2.putText(frame, \"Computer's Move: \" + computer_move,(400, 50), font, 0.7, (255, 255, 255), 1, cv2.LINE_AA)\n",
    "    \n",
    "    \n",
    "    \n",
    "    if computer_move_name != \"none\":\n",
    "        icon = cv2.imread(\n",
    "            \"images/{}.png\".format(computer_move_na))\n",
    "        icon = cv2.resize(icon, (400, 400))\n",
    "        frame[100:500, 800:1200] = icon\n",
    "    \n",
    "    \n",
    "    cv2.imshow(\"Rock Paper Scissors\", frame)\n",
    "\n",
    "    k = cv2.waitKey(10)\n",
    "    if k == ord('q'):\n",
    "        break\n",
    "        \n",
    "cap.release()\n",
    "cv2.destroyAllWindows()\n",
    "\n"
   ]
  },
  {
   "cell_type": "code",
   "execution_count": 15,
   "metadata": {},
   "outputs": [],
   "source": [
    "cv2.putText(frame, \"Winner: \" + winner,(200, 400), font, 1, (0, 0, 255), 2, cv2.LINE_AA)"
   ]
  },
  {
   "cell_type": "code",
   "execution_count": null,
   "metadata": {},
   "outputs": [],
   "source": []
  },
  {
   "cell_type": "code",
   "execution_count": null,
   "metadata": {},
   "outputs": [],
   "source": []
  },
  {
   "cell_type": "code",
   "execution_count": null,
   "metadata": {},
   "outputs": [],
   "source": []
  },
  {
   "cell_type": "code",
   "execution_count": null,
   "metadata": {},
   "outputs": [],
   "source": []
  },
  {
   "cell_type": "code",
   "execution_count": null,
   "metadata": {},
   "outputs": [],
   "source": []
  },
  {
   "cell_type": "code",
   "execution_count": null,
   "metadata": {},
   "outputs": [],
   "source": []
  }
 ],
 "metadata": {
  "kernelspec": {
   "display_name": "Python 3",
   "language": "python",
   "name": "python3"
  },
  "language_info": {
   "codemirror_mode": {
    "name": "ipython",
    "version": 3
   },
   "file_extension": ".py",
   "mimetype": "text/x-python",
   "name": "python",
   "nbconvert_exporter": "python",
   "pygments_lexer": "ipython3",
   "version": "3.7.6"
  }
 },
 "nbformat": 4,
 "nbformat_minor": 4
}
